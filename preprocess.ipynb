{
 "cells": [
  {
   "cell_type": "markdown",
   "metadata": {},
   "source": [
    "# Dataset pre-processing."
   ]
  },
  {
   "cell_type": "markdown",
   "metadata": {},
   "source": [
    "## Import packages"
   ]
  },
  {
   "cell_type": "code",
   "execution_count": 1,
   "metadata": {},
   "outputs": [],
   "source": [
    "import os\n",
    "import sys\n",
    "import warnings\n",
    "import numpy as np\n",
    "import pandas as pd\n",
    "warnings.filterwarnings('ignore')"
   ]
  },
  {
   "cell_type": "markdown",
   "metadata": {},
   "source": [
    "## Read dataset"
   ]
  },
  {
   "cell_type": "code",
   "execution_count": 2,
   "metadata": {},
   "outputs": [
    {
     "name": "stdout",
     "output_type": "stream",
     "text": [
      "Dataset size in memory: 2.934 gb\n"
     ]
    }
   ],
   "source": [
    "dataset = pd.read_csv(\"Citywide_Payroll_Data__Fiscal_Year_.csv\")\n",
    "print(f\"Dataset size in memory: {sys.getsizeof(dataset)*1e-9:.3f}\",\"gb\")\n",
    "new_data = dataset[dataset.columns]\n",
    "assert new_data.shape == dataset.shape"
   ]
  },
  {
   "cell_type": "code",
   "execution_count": 3,
   "metadata": {},
   "outputs": [
    {
     "data": {
      "text/html": [
       "<div>\n",
       "<style scoped>\n",
       "    .dataframe tbody tr th:only-of-type {\n",
       "        vertical-align: middle;\n",
       "    }\n",
       "\n",
       "    .dataframe tbody tr th {\n",
       "        vertical-align: top;\n",
       "    }\n",
       "\n",
       "    .dataframe thead th {\n",
       "        text-align: right;\n",
       "    }\n",
       "</style>\n",
       "<table border=\"1\" class=\"dataframe\">\n",
       "  <thead>\n",
       "    <tr style=\"text-align: right;\">\n",
       "      <th></th>\n",
       "      <th>Fiscal Year</th>\n",
       "      <th>Payroll Number</th>\n",
       "      <th>Agency Name</th>\n",
       "      <th>Last Name</th>\n",
       "      <th>First Name</th>\n",
       "      <th>Mid Init</th>\n",
       "      <th>Agency Start Date</th>\n",
       "      <th>Work Location Borough</th>\n",
       "      <th>Title Description</th>\n",
       "      <th>Leave Status as of June 30</th>\n",
       "      <th>Base Salary</th>\n",
       "      <th>Pay Basis</th>\n",
       "      <th>Regular Hours</th>\n",
       "      <th>Regular Gross Paid</th>\n",
       "      <th>OT Hours</th>\n",
       "      <th>Total OT Paid</th>\n",
       "      <th>Total Other Pay</th>\n",
       "    </tr>\n",
       "  </thead>\n",
       "  <tbody>\n",
       "    <tr>\n",
       "      <th>0</th>\n",
       "      <td>2020</td>\n",
       "      <td>17.0</td>\n",
       "      <td>OFFICE OF EMERGENCY MANAGEMENT</td>\n",
       "      <td>BEREZIN</td>\n",
       "      <td>MIKHAIL</td>\n",
       "      <td>NaN</td>\n",
       "      <td>08/10/2015</td>\n",
       "      <td>BROOKLYN</td>\n",
       "      <td>EMERGENCY PREPAREDNESS MANAGER</td>\n",
       "      <td>ACTIVE</td>\n",
       "      <td>86005.0</td>\n",
       "      <td>per Annum</td>\n",
       "      <td>1820.0</td>\n",
       "      <td>84698.21</td>\n",
       "      <td>0.0</td>\n",
       "      <td>0.0</td>\n",
       "      <td>0.0</td>\n",
       "    </tr>\n",
       "    <tr>\n",
       "      <th>1</th>\n",
       "      <td>2020</td>\n",
       "      <td>17.0</td>\n",
       "      <td>OFFICE OF EMERGENCY MANAGEMENT</td>\n",
       "      <td>GEAGER</td>\n",
       "      <td>VERONICA</td>\n",
       "      <td>M</td>\n",
       "      <td>09/12/2016</td>\n",
       "      <td>BROOKLYN</td>\n",
       "      <td>EMERGENCY PREPAREDNESS MANAGER</td>\n",
       "      <td>ACTIVE</td>\n",
       "      <td>86005.0</td>\n",
       "      <td>per Annum</td>\n",
       "      <td>1820.0</td>\n",
       "      <td>84698.21</td>\n",
       "      <td>0.0</td>\n",
       "      <td>0.0</td>\n",
       "      <td>0.0</td>\n",
       "    </tr>\n",
       "    <tr>\n",
       "      <th>2</th>\n",
       "      <td>2020</td>\n",
       "      <td>17.0</td>\n",
       "      <td>OFFICE OF EMERGENCY MANAGEMENT</td>\n",
       "      <td>RAMANI</td>\n",
       "      <td>SHRADDHA</td>\n",
       "      <td>NaN</td>\n",
       "      <td>02/22/2016</td>\n",
       "      <td>BROOKLYN</td>\n",
       "      <td>EMERGENCY PREPAREDNESS MANAGER</td>\n",
       "      <td>ACTIVE</td>\n",
       "      <td>86005.0</td>\n",
       "      <td>per Annum</td>\n",
       "      <td>1820.0</td>\n",
       "      <td>84698.21</td>\n",
       "      <td>0.0</td>\n",
       "      <td>0.0</td>\n",
       "      <td>0.0</td>\n",
       "    </tr>\n",
       "    <tr>\n",
       "      <th>3</th>\n",
       "      <td>2020</td>\n",
       "      <td>17.0</td>\n",
       "      <td>OFFICE OF EMERGENCY MANAGEMENT</td>\n",
       "      <td>ROTTA</td>\n",
       "      <td>JONATHAN</td>\n",
       "      <td>D</td>\n",
       "      <td>09/16/2013</td>\n",
       "      <td>BROOKLYN</td>\n",
       "      <td>EMERGENCY PREPAREDNESS MANAGER</td>\n",
       "      <td>ACTIVE</td>\n",
       "      <td>86005.0</td>\n",
       "      <td>per Annum</td>\n",
       "      <td>1820.0</td>\n",
       "      <td>84698.21</td>\n",
       "      <td>0.0</td>\n",
       "      <td>0.0</td>\n",
       "      <td>0.0</td>\n",
       "    </tr>\n",
       "    <tr>\n",
       "      <th>4</th>\n",
       "      <td>2020</td>\n",
       "      <td>17.0</td>\n",
       "      <td>OFFICE OF EMERGENCY MANAGEMENT</td>\n",
       "      <td>WILSON II</td>\n",
       "      <td>ROBERT</td>\n",
       "      <td>P</td>\n",
       "      <td>04/30/2018</td>\n",
       "      <td>BROOKLYN</td>\n",
       "      <td>EMERGENCY PREPAREDNESS MANAGER</td>\n",
       "      <td>ACTIVE</td>\n",
       "      <td>86005.0</td>\n",
       "      <td>per Annum</td>\n",
       "      <td>1820.0</td>\n",
       "      <td>84698.21</td>\n",
       "      <td>0.0</td>\n",
       "      <td>0.0</td>\n",
       "      <td>0.0</td>\n",
       "    </tr>\n",
       "  </tbody>\n",
       "</table>\n",
       "</div>"
      ],
      "text/plain": [
       "   Fiscal Year  Payroll Number                     Agency Name  Last Name  \\\n",
       "0         2020            17.0  OFFICE OF EMERGENCY MANAGEMENT    BEREZIN   \n",
       "1         2020            17.0  OFFICE OF EMERGENCY MANAGEMENT     GEAGER   \n",
       "2         2020            17.0  OFFICE OF EMERGENCY MANAGEMENT     RAMANI   \n",
       "3         2020            17.0  OFFICE OF EMERGENCY MANAGEMENT      ROTTA   \n",
       "4         2020            17.0  OFFICE OF EMERGENCY MANAGEMENT  WILSON II   \n",
       "\n",
       "  First Name Mid Init Agency Start Date Work Location Borough  \\\n",
       "0    MIKHAIL      NaN        08/10/2015              BROOKLYN   \n",
       "1   VERONICA        M        09/12/2016              BROOKLYN   \n",
       "2   SHRADDHA      NaN        02/22/2016              BROOKLYN   \n",
       "3   JONATHAN        D        09/16/2013              BROOKLYN   \n",
       "4     ROBERT        P        04/30/2018              BROOKLYN   \n",
       "\n",
       "                Title Description Leave Status as of June 30  Base Salary  \\\n",
       "0  EMERGENCY PREPAREDNESS MANAGER                     ACTIVE      86005.0   \n",
       "1  EMERGENCY PREPAREDNESS MANAGER                     ACTIVE      86005.0   \n",
       "2  EMERGENCY PREPAREDNESS MANAGER                     ACTIVE      86005.0   \n",
       "3  EMERGENCY PREPAREDNESS MANAGER                     ACTIVE      86005.0   \n",
       "4  EMERGENCY PREPAREDNESS MANAGER                     ACTIVE      86005.0   \n",
       "\n",
       "   Pay Basis  Regular Hours  Regular Gross Paid  OT Hours  Total OT Paid  \\\n",
       "0  per Annum         1820.0            84698.21       0.0            0.0   \n",
       "1  per Annum         1820.0            84698.21       0.0            0.0   \n",
       "2  per Annum         1820.0            84698.21       0.0            0.0   \n",
       "3  per Annum         1820.0            84698.21       0.0            0.0   \n",
       "4  per Annum         1820.0            84698.21       0.0            0.0   \n",
       "\n",
       "   Total Other Pay  \n",
       "0              0.0  \n",
       "1              0.0  \n",
       "2              0.0  \n",
       "3              0.0  \n",
       "4              0.0  "
      ]
     },
     "execution_count": 3,
     "metadata": {},
     "output_type": "execute_result"
    }
   ],
   "source": [
    "dataset.head()"
   ]
  },
  {
   "cell_type": "markdown",
   "metadata": {},
   "source": [
    "### Total missing values."
   ]
  },
  {
   "cell_type": "code",
   "execution_count": 25,
   "metadata": {},
   "outputs": [
    {
     "name": "stdout",
     "output_type": "stream",
     "text": [
      "Missing cell values : 4100946\n"
     ]
    }
   ],
   "source": [
    "print(f'Missing cell values : {sum(new_data.isna().sum())}')"
   ]
  },
  {
   "cell_type": "markdown",
   "metadata": {},
   "source": [
    "### Missing values column wise."
   ]
  },
  {
   "cell_type": "code",
   "execution_count": 33,
   "metadata": {},
   "outputs": [
    {
     "data": {
      "text/html": [
       "<div>\n",
       "<style scoped>\n",
       "    .dataframe tbody tr th:only-of-type {\n",
       "        vertical-align: middle;\n",
       "    }\n",
       "\n",
       "    .dataframe tbody tr th {\n",
       "        vertical-align: top;\n",
       "    }\n",
       "\n",
       "    .dataframe thead th {\n",
       "        text-align: right;\n",
       "    }\n",
       "</style>\n",
       "<table border=\"1\" class=\"dataframe\">\n",
       "  <thead>\n",
       "    <tr style=\"text-align: right;\">\n",
       "      <th></th>\n",
       "      <th>Missing values</th>\n",
       "    </tr>\n",
       "  </thead>\n",
       "  <tbody>\n",
       "    <tr>\n",
       "      <th>Fiscal Year</th>\n",
       "      <td>0</td>\n",
       "    </tr>\n",
       "    <tr>\n",
       "      <th>Payroll Number</th>\n",
       "      <td>1745440</td>\n",
       "    </tr>\n",
       "    <tr>\n",
       "      <th>Agency Name</th>\n",
       "      <td>0</td>\n",
       "    </tr>\n",
       "    <tr>\n",
       "      <th>Last Name</th>\n",
       "      <td>6632</td>\n",
       "    </tr>\n",
       "    <tr>\n",
       "      <th>First Name</th>\n",
       "      <td>6661</td>\n",
       "    </tr>\n",
       "    <tr>\n",
       "      <th>Mid Init</th>\n",
       "      <td>1835833</td>\n",
       "    </tr>\n",
       "    <tr>\n",
       "      <th>Agency Start Date</th>\n",
       "      <td>63</td>\n",
       "    </tr>\n",
       "    <tr>\n",
       "      <th>Work Location Borough</th>\n",
       "      <td>506229</td>\n",
       "    </tr>\n",
       "    <tr>\n",
       "      <th>Title Description</th>\n",
       "      <td>88</td>\n",
       "    </tr>\n",
       "    <tr>\n",
       "      <th>Leave Status as of June 30</th>\n",
       "      <td>0</td>\n",
       "    </tr>\n",
       "    <tr>\n",
       "      <th>Base Salary</th>\n",
       "      <td>0</td>\n",
       "    </tr>\n",
       "    <tr>\n",
       "      <th>Pay Basis</th>\n",
       "      <td>0</td>\n",
       "    </tr>\n",
       "    <tr>\n",
       "      <th>Regular Hours</th>\n",
       "      <td>0</td>\n",
       "    </tr>\n",
       "    <tr>\n",
       "      <th>Regular Gross Paid</th>\n",
       "      <td>0</td>\n",
       "    </tr>\n",
       "    <tr>\n",
       "      <th>OT Hours</th>\n",
       "      <td>0</td>\n",
       "    </tr>\n",
       "    <tr>\n",
       "      <th>Total OT Paid</th>\n",
       "      <td>0</td>\n",
       "    </tr>\n",
       "    <tr>\n",
       "      <th>Total Other Pay</th>\n",
       "      <td>0</td>\n",
       "    </tr>\n",
       "  </tbody>\n",
       "</table>\n",
       "</div>"
      ],
      "text/plain": [
       "                            Missing values\n",
       "Fiscal Year                              0\n",
       "Payroll Number                     1745440\n",
       "Agency Name                              0\n",
       "Last Name                             6632\n",
       "First Name                            6661\n",
       "Mid Init                           1835833\n",
       "Agency Start Date                       63\n",
       "Work Location Borough               506229\n",
       "Title Description                       88\n",
       "Leave Status as of June 30               0\n",
       "Base Salary                              0\n",
       "Pay Basis                                0\n",
       "Regular Hours                            0\n",
       "Regular Gross Paid                       0\n",
       "OT Hours                                 0\n",
       "Total OT Paid                            0\n",
       "Total Other Pay                          0"
      ]
     },
     "execution_count": 33,
     "metadata": {},
     "output_type": "execute_result"
    }
   ],
   "source": [
    "pd.DataFrame(new_data.isna().sum(), columns=[\"Missing values\"])"
   ]
  },
  {
   "cell_type": "markdown",
   "metadata": {},
   "source": [
    "### Columns to be handled."
   ]
  },
  {
   "cell_type": "code",
   "execution_count": 57,
   "metadata": {},
   "outputs": [
    {
     "data": {
      "text/html": [
       "<div>\n",
       "<style scoped>\n",
       "    .dataframe tbody tr th:only-of-type {\n",
       "        vertical-align: middle;\n",
       "    }\n",
       "\n",
       "    .dataframe tbody tr th {\n",
       "        vertical-align: top;\n",
       "    }\n",
       "\n",
       "    .dataframe thead th {\n",
       "        text-align: right;\n",
       "    }\n",
       "</style>\n",
       "<table border=\"1\" class=\"dataframe\">\n",
       "  <thead>\n",
       "    <tr style=\"text-align: right;\">\n",
       "      <th></th>\n",
       "      <th>Missing Values</th>\n",
       "    </tr>\n",
       "  </thead>\n",
       "  <tbody>\n",
       "    <tr>\n",
       "      <th>Payroll Number</th>\n",
       "      <td>1745440</td>\n",
       "    </tr>\n",
       "    <tr>\n",
       "      <th>Last Name</th>\n",
       "      <td>6632</td>\n",
       "    </tr>\n",
       "    <tr>\n",
       "      <th>First Name</th>\n",
       "      <td>6661</td>\n",
       "    </tr>\n",
       "    <tr>\n",
       "      <th>Mid Init</th>\n",
       "      <td>1835833</td>\n",
       "    </tr>\n",
       "    <tr>\n",
       "      <th>Agency Start Date</th>\n",
       "      <td>63</td>\n",
       "    </tr>\n",
       "    <tr>\n",
       "      <th>Work Location Borough</th>\n",
       "      <td>506229</td>\n",
       "    </tr>\n",
       "    <tr>\n",
       "      <th>Title Description</th>\n",
       "      <td>88</td>\n",
       "    </tr>\n",
       "  </tbody>\n",
       "</table>\n",
       "</div>"
      ],
      "text/plain": [
       "                       Missing Values\n",
       "Payroll Number                1745440\n",
       "Last Name                        6632\n",
       "First Name                       6661\n",
       "Mid Init                      1835833\n",
       "Agency Start Date                  63\n",
       "Work Location Borough          506229\n",
       "Title Description                  88"
      ]
     },
     "execution_count": 57,
     "metadata": {},
     "output_type": "execute_result"
    }
   ],
   "source": [
    "condition = new_data.isna().sum()\n",
    "pd.DataFrame(condition[condition.index[np.where(condition.values>0)]], columns=[\"Missing Values\"])"
   ]
  },
  {
   "cell_type": "markdown",
   "metadata": {},
   "source": [
    "### Drop irrelevant column 'Mid Init'."
   ]
  },
  {
   "cell_type": "code",
   "execution_count": 58,
   "metadata": {},
   "outputs": [],
   "source": [
    "new_data.drop('Mid Init', axis = 1, inplace = True)"
   ]
  },
  {
   "cell_type": "code",
   "execution_count": 22,
   "metadata": {},
   "outputs": [
    {
     "data": {
      "text/plain": [
       "33.0    2784\n",
       "Name: Payroll Number, dtype: int64"
      ]
     },
     "execution_count": 22,
     "metadata": {},
     "output_type": "execute_result"
    }
   ],
   "source": [
    "new_data[new_data['Agency Name']=='PERSONNEL MONITORS']['Payroll Number'].value_counts()"
   ]
  },
  {
   "cell_type": "code",
   "execution_count": null,
   "metadata": {},
   "outputs": [],
   "source": []
  }
 ],
 "metadata": {
  "interpreter": {
   "hash": "9f7cd4a032357cee79ce7059b7758f9c5aa995e9cd3eea18c8a9dd6a7286ed82"
  },
  "kernelspec": {
   "display_name": "Python 3.9.7 64-bit ('ub_dl': conda)",
   "language": "python",
   "name": "python3"
  },
  "language_info": {
   "codemirror_mode": {
    "name": "ipython",
    "version": 3
   },
   "file_extension": ".py",
   "mimetype": "text/x-python",
   "name": "python",
   "nbconvert_exporter": "python",
   "pygments_lexer": "ipython3",
   "version": "3.9.7"
  },
  "orig_nbformat": 4
 },
 "nbformat": 4,
 "nbformat_minor": 2
}
