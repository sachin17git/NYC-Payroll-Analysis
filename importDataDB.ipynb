{
 "cells": [
  {
   "cell_type": "markdown",
   "metadata": {},
   "source": [
    "## Importing data into the database."
   ]
  },
  {
   "cell_type": "markdown",
   "metadata": {},
   "source": [
    "### Import libraries"
   ]
  },
  {
   "cell_type": "code",
   "execution_count": 1,
   "metadata": {},
   "outputs": [],
   "source": [
    "import os\n",
    "import sqlite3\n",
    "import pandas as pd\n",
    "from sqlite3 import Error\n",
    "from IPython.display import display"
   ]
  },
  {
   "cell_type": "markdown",
   "metadata": {},
   "source": [
    "### Read the processed feather format data."
   ]
  },
  {
   "cell_type": "code",
   "execution_count": 2,
   "metadata": {},
   "outputs": [
    {
     "data": {
      "text/html": [
       "<div>\n",
       "<style scoped>\n",
       "    .dataframe tbody tr th:only-of-type {\n",
       "        vertical-align: middle;\n",
       "    }\n",
       "\n",
       "    .dataframe tbody tr th {\n",
       "        vertical-align: top;\n",
       "    }\n",
       "\n",
       "    .dataframe thead th {\n",
       "        text-align: right;\n",
       "    }\n",
       "</style>\n",
       "<table border=\"1\" class=\"dataframe\">\n",
       "  <thead>\n",
       "    <tr style=\"text-align: right;\">\n",
       "      <th></th>\n",
       "      <th>Fiscal Year</th>\n",
       "      <th>Payroll Number</th>\n",
       "      <th>Agency Name</th>\n",
       "      <th>Last Name</th>\n",
       "      <th>First Name</th>\n",
       "      <th>Agency Start Date</th>\n",
       "      <th>Work Location Borough</th>\n",
       "      <th>Title Description</th>\n",
       "      <th>Leave Status as of June 30</th>\n",
       "      <th>Base Salary</th>\n",
       "      <th>...</th>\n",
       "      <th>Regular Gross Paid</th>\n",
       "      <th>OT Hours</th>\n",
       "      <th>Total OT Paid</th>\n",
       "      <th>Total Other Pay</th>\n",
       "      <th>Regular Hours category</th>\n",
       "      <th>Total Paid</th>\n",
       "      <th>OT Hours category</th>\n",
       "      <th>Hourly Pay</th>\n",
       "      <th>Hourly Pay category</th>\n",
       "      <th>Total Pay category</th>\n",
       "    </tr>\n",
       "  </thead>\n",
       "  <tbody>\n",
       "    <tr>\n",
       "      <th>0</th>\n",
       "      <td>2020</td>\n",
       "      <td>17.0</td>\n",
       "      <td>OFFICE OF EMERGENCY MANAGEMENT</td>\n",
       "      <td>BEREZIN</td>\n",
       "      <td>MIKHAIL</td>\n",
       "      <td>08/10/2015</td>\n",
       "      <td>BROOKLYN</td>\n",
       "      <td>EMERGENCY PREPAREDNESS MANAGER</td>\n",
       "      <td>ACTIVE</td>\n",
       "      <td>86005.0</td>\n",
       "      <td>...</td>\n",
       "      <td>84698.21</td>\n",
       "      <td>0.0</td>\n",
       "      <td>0.0</td>\n",
       "      <td>0.0</td>\n",
       "      <td>1500-2000</td>\n",
       "      <td>84698.21</td>\n",
       "      <td>0-500</td>\n",
       "      <td>46.537478</td>\n",
       "      <td>0-100</td>\n",
       "      <td>60000-90000</td>\n",
       "    </tr>\n",
       "    <tr>\n",
       "      <th>1</th>\n",
       "      <td>2020</td>\n",
       "      <td>17.0</td>\n",
       "      <td>OFFICE OF EMERGENCY MANAGEMENT</td>\n",
       "      <td>GEAGER</td>\n",
       "      <td>VERONICA</td>\n",
       "      <td>09/12/2016</td>\n",
       "      <td>BROOKLYN</td>\n",
       "      <td>EMERGENCY PREPAREDNESS MANAGER</td>\n",
       "      <td>ACTIVE</td>\n",
       "      <td>86005.0</td>\n",
       "      <td>...</td>\n",
       "      <td>84698.21</td>\n",
       "      <td>0.0</td>\n",
       "      <td>0.0</td>\n",
       "      <td>0.0</td>\n",
       "      <td>1500-2000</td>\n",
       "      <td>84698.21</td>\n",
       "      <td>0-500</td>\n",
       "      <td>46.537478</td>\n",
       "      <td>0-100</td>\n",
       "      <td>60000-90000</td>\n",
       "    </tr>\n",
       "    <tr>\n",
       "      <th>2</th>\n",
       "      <td>2020</td>\n",
       "      <td>17.0</td>\n",
       "      <td>OFFICE OF EMERGENCY MANAGEMENT</td>\n",
       "      <td>RAMANI</td>\n",
       "      <td>SHRADDHA</td>\n",
       "      <td>02/22/2016</td>\n",
       "      <td>BROOKLYN</td>\n",
       "      <td>EMERGENCY PREPAREDNESS MANAGER</td>\n",
       "      <td>ACTIVE</td>\n",
       "      <td>86005.0</td>\n",
       "      <td>...</td>\n",
       "      <td>84698.21</td>\n",
       "      <td>0.0</td>\n",
       "      <td>0.0</td>\n",
       "      <td>0.0</td>\n",
       "      <td>1500-2000</td>\n",
       "      <td>84698.21</td>\n",
       "      <td>0-500</td>\n",
       "      <td>46.537478</td>\n",
       "      <td>0-100</td>\n",
       "      <td>60000-90000</td>\n",
       "    </tr>\n",
       "  </tbody>\n",
       "</table>\n",
       "<p>3 rows × 22 columns</p>\n",
       "</div>"
      ],
      "text/plain": [
       "   Fiscal Year  Payroll Number                     Agency Name Last Name  \\\n",
       "0         2020            17.0  OFFICE OF EMERGENCY MANAGEMENT   BEREZIN   \n",
       "1         2020            17.0  OFFICE OF EMERGENCY MANAGEMENT    GEAGER   \n",
       "2         2020            17.0  OFFICE OF EMERGENCY MANAGEMENT    RAMANI   \n",
       "\n",
       "  First Name Agency Start Date Work Location Borough  \\\n",
       "0    MIKHAIL        08/10/2015              BROOKLYN   \n",
       "1   VERONICA        09/12/2016              BROOKLYN   \n",
       "2   SHRADDHA        02/22/2016              BROOKLYN   \n",
       "\n",
       "                Title Description Leave Status as of June 30  Base Salary  \\\n",
       "0  EMERGENCY PREPAREDNESS MANAGER                     ACTIVE      86005.0   \n",
       "1  EMERGENCY PREPAREDNESS MANAGER                     ACTIVE      86005.0   \n",
       "2  EMERGENCY PREPAREDNESS MANAGER                     ACTIVE      86005.0   \n",
       "\n",
       "   ... Regular Gross Paid  OT Hours  Total OT Paid  Total Other Pay  \\\n",
       "0  ...           84698.21       0.0            0.0              0.0   \n",
       "1  ...           84698.21       0.0            0.0              0.0   \n",
       "2  ...           84698.21       0.0            0.0              0.0   \n",
       "\n",
       "   Regular Hours category  Total Paid OT Hours category  Hourly Pay  \\\n",
       "0               1500-2000    84698.21             0-500   46.537478   \n",
       "1               1500-2000    84698.21             0-500   46.537478   \n",
       "2               1500-2000    84698.21             0-500   46.537478   \n",
       "\n",
       "  Hourly Pay category  Total Pay category  \n",
       "0               0-100         60000-90000  \n",
       "1               0-100         60000-90000  \n",
       "2               0-100         60000-90000  \n",
       "\n",
       "[3 rows x 22 columns]"
      ]
     },
     "execution_count": 2,
     "metadata": {},
     "output_type": "execute_result"
    }
   ],
   "source": [
    "df = pd.read_feather(\"NYC-proc.feather\")\n",
    "df.drop(\"index\", axis=1, inplace=True)\n",
    "df.head(3)"
   ]
  },
  {
   "cell_type": "markdown",
   "metadata": {},
   "source": [
    "### Functions for creating connection, table and executing sql statements."
   ]
  },
  {
   "cell_type": "code",
   "execution_count": 3,
   "metadata": {},
   "outputs": [],
   "source": [
    "def create_connection(db_file, delete_db=False):\n",
    "    conn = None\n",
    "    try:\n",
    "        conn = sqlite3.connect(db_file)\n",
    "        conn.execute(\"PRAGMA foreign_keys = 1\")\n",
    "    except Error as e:\n",
    "        print(e)\n",
    "\n",
    "    return conn"
   ]
  },
  {
   "cell_type": "code",
   "execution_count": 4,
   "metadata": {},
   "outputs": [],
   "source": [
    "def create_table(conn, create_table_sql, drop_table_name=None):\n",
    "    \n",
    "    if drop_table_name:\n",
    "        try:\n",
    "            c = conn.cursor()\n",
    "            c.execute(\"\"\"DROP TABLE IF EXISTS %s\"\"\" % (drop_table_name))\n",
    "        except Error as e:\n",
    "            print(e)\n",
    "    \n",
    "    try:\n",
    "        c = conn.cursor()\n",
    "        c.execute(create_table_sql)\n",
    "    except Error as e:\n",
    "        print(e)"
   ]
  },
  {
   "cell_type": "code",
   "execution_count": 5,
   "metadata": {},
   "outputs": [],
   "source": [
    "def execute_sql_statement(sql_statement, conn):\n",
    "    cur = conn.cursor()\n",
    "    cur.execute(sql_statement)\n",
    "\n",
    "    rows = cur.fetchall()\n",
    "\n",
    "    return rows"
   ]
  },
  {
   "cell_type": "markdown",
   "metadata": {},
   "source": [
    "### Create database connection."
   ]
  },
  {
   "cell_type": "code",
   "execution_count": 6,
   "metadata": {},
   "outputs": [],
   "source": [
    "PATH = os.getcwd()\n",
    "conn = create_connection(os.path.join(PATH, 'nyc-payroll.db'))"
   ]
  },
  {
   "cell_type": "markdown",
   "metadata": {},
   "source": [
    "### Create tables."
   ]
  },
  {
   "cell_type": "markdown",
   "metadata": {},
   "source": [
    "##### Create table Fiscal Year."
   ]
  },
  {
   "cell_type": "code",
   "execution_count": 7,
   "metadata": {},
   "outputs": [],
   "source": [
    "sql = \"CREATE TABLE FiscalYear (FiscalYear INTEGER NOT NULL PRIMARY KEY);\"\n",
    "create_table(conn, sql, drop_table_name='FiscalYear')"
   ]
  },
  {
   "cell_type": "markdown",
   "metadata": {},
   "source": [
    "##### Create table Agency Name."
   ]
  },
  {
   "cell_type": "code",
   "execution_count": 8,
   "metadata": {},
   "outputs": [],
   "source": [
    "sql = \"CREATE TABLE AgencyName (AgencyName TEXT NOT NULL PRIMARY KEY);\"\n",
    "create_table(conn, sql, drop_table_name='AgencyName')"
   ]
  },
  {
   "cell_type": "markdown",
   "metadata": {},
   "source": [
    "##### Create table Pay Basis."
   ]
  },
  {
   "cell_type": "code",
   "execution_count": 9,
   "metadata": {},
   "outputs": [],
   "source": [
    "sql = \"CREATE TABLE PayBasis (PayBasis TEXT NOT NULL PRIMARY KEY);\"\n",
    "create_table(conn, sql, drop_table_name='PayBasis')"
   ]
  },
  {
   "cell_type": "markdown",
   "metadata": {},
   "source": [
    "##### Create table Pay Roll."
   ]
  },
  {
   "cell_type": "code",
   "execution_count": 10,
   "metadata": {},
   "outputs": [],
   "source": [
    "sql = \"CREATE TABLE PayRoll (PayRollNo INTEGER NOT NULL PRIMARY KEY, AgencyName TEXT NOT NULL, FOREIGN KEY (AgencyName) REFERENCES AgencyName(AgencyName));\"\n",
    "create_table(conn, sql, drop_table_name='PayRoll')"
   ]
  },
  {
   "cell_type": "markdown",
   "metadata": {},
   "source": [
    "##### Create table Employee. "
   ]
  },
  {
   "cell_type": "code",
   "execution_count": 11,
   "metadata": {},
   "outputs": [],
   "source": [
    "sql = \"CREATE TABLE Employee (EmployeeID INTEGER NOT NULL PRIMARY KEY, FirstName TEXT NOT NULL, LastName TEXT NOT NULL, PayRollNo INTEGER NOT NULL, FiscalYear INTEGER NOT NULL, PayBasis TEXT NOT NULL, RegularGrossPaid FLOAT NOT NULL, FOREIGN KEY (PayBasis) REFERENCES PayBasis(PayBasis), FOREIGN KEY (PayRollNo) REFERENCES PayRoll(PayRollNo), FOREIGN KEY (Fiscalyear) REFERENCES FiscalYear(FiscalYear));\"\n",
    "create_table(conn, sql, drop_table_name='Employee')"
   ]
  },
  {
   "cell_type": "markdown",
   "metadata": {},
   "source": [
    "##### Create table Designation."
   ]
  },
  {
   "cell_type": "code",
   "execution_count": 12,
   "metadata": {},
   "outputs": [],
   "source": [
    "sql = \"CREATE TABLE Designation (EmployeeID INTEGER NOT NULL, TitleDescription TEXT NOT NULL, BaseSalary INTEGER NOT NULL, WorkLocation TEXT NOT NULL, FOREIGN KEY (EmployeeID) REFERENCES Employee(EmployeeID));\"\n",
    "create_table(conn, sql, drop_table_name='Designation')"
   ]
  },
  {
   "cell_type": "markdown",
   "metadata": {},
   "source": [
    "##### Create table Income."
   ]
  },
  {
   "cell_type": "code",
   "execution_count": 13,
   "metadata": {},
   "outputs": [],
   "source": [
    "sql = \"CREATE TABLE Income (EmployeeID INTEGER NOT NULL, RegularGrossPaid FLOAT NOT NULL, RegularHours FLOAT NOT NULL, OTHours FLOAT NOT NULL, TotalOTPay FLOAT NOT NULL, TotalOtherPay FLOAT NOT NULL, TotalPay FLOAT NOT NULL, HourlyPay FLOAT NOT NULL, RegularHoursCategory VARCHAR(255) NOT NULL, OTHoursCategory VARCHAR(255) NOT NULL, HourlyPayCategory VARCHAR(255) NOT NULL, TotalPayCategory VARCHAR(255) NOT NULL, FOREIGN KEY (EmployeeID) REFERENCES Employee(EmployeeID));\"\n",
    "create_table(conn, sql, drop_table_name='Income')"
   ]
  },
  {
   "cell_type": "markdown",
   "metadata": {},
   "source": [
    "### Display database schema."
   ]
  },
  {
   "cell_type": "code",
   "execution_count": 14,
   "metadata": {},
   "outputs": [
    {
     "name": "stdout",
     "output_type": "stream",
     "text": [
      "FiscalYear :\n"
     ]
    },
    {
     "data": {
      "text/html": [
       "<div>\n",
       "<style scoped>\n",
       "    .dataframe tbody tr th:only-of-type {\n",
       "        vertical-align: middle;\n",
       "    }\n",
       "\n",
       "    .dataframe tbody tr th {\n",
       "        vertical-align: top;\n",
       "    }\n",
       "\n",
       "    .dataframe thead th {\n",
       "        text-align: right;\n",
       "    }\n",
       "</style>\n",
       "<table border=\"1\" class=\"dataframe\">\n",
       "  <thead>\n",
       "    <tr style=\"text-align: right;\">\n",
       "      <th></th>\n",
       "      <th>FiscalYear</th>\n",
       "    </tr>\n",
       "  </thead>\n",
       "  <tbody>\n",
       "  </tbody>\n",
       "</table>\n",
       "</div>"
      ],
      "text/plain": [
       "Empty DataFrame\n",
       "Columns: [FiscalYear]\n",
       "Index: []"
      ]
     },
     "metadata": {},
     "output_type": "display_data"
    },
    {
     "name": "stdout",
     "output_type": "stream",
     "text": [
      "\n",
      "AgencyName :\n"
     ]
    },
    {
     "data": {
      "text/html": [
       "<div>\n",
       "<style scoped>\n",
       "    .dataframe tbody tr th:only-of-type {\n",
       "        vertical-align: middle;\n",
       "    }\n",
       "\n",
       "    .dataframe tbody tr th {\n",
       "        vertical-align: top;\n",
       "    }\n",
       "\n",
       "    .dataframe thead th {\n",
       "        text-align: right;\n",
       "    }\n",
       "</style>\n",
       "<table border=\"1\" class=\"dataframe\">\n",
       "  <thead>\n",
       "    <tr style=\"text-align: right;\">\n",
       "      <th></th>\n",
       "      <th>AgencyName</th>\n",
       "    </tr>\n",
       "  </thead>\n",
       "  <tbody>\n",
       "  </tbody>\n",
       "</table>\n",
       "</div>"
      ],
      "text/plain": [
       "Empty DataFrame\n",
       "Columns: [AgencyName]\n",
       "Index: []"
      ]
     },
     "metadata": {},
     "output_type": "display_data"
    },
    {
     "name": "stdout",
     "output_type": "stream",
     "text": [
      "\n",
      "PayBasis :\n"
     ]
    },
    {
     "data": {
      "text/html": [
       "<div>\n",
       "<style scoped>\n",
       "    .dataframe tbody tr th:only-of-type {\n",
       "        vertical-align: middle;\n",
       "    }\n",
       "\n",
       "    .dataframe tbody tr th {\n",
       "        vertical-align: top;\n",
       "    }\n",
       "\n",
       "    .dataframe thead th {\n",
       "        text-align: right;\n",
       "    }\n",
       "</style>\n",
       "<table border=\"1\" class=\"dataframe\">\n",
       "  <thead>\n",
       "    <tr style=\"text-align: right;\">\n",
       "      <th></th>\n",
       "      <th>PayBasis</th>\n",
       "    </tr>\n",
       "  </thead>\n",
       "  <tbody>\n",
       "  </tbody>\n",
       "</table>\n",
       "</div>"
      ],
      "text/plain": [
       "Empty DataFrame\n",
       "Columns: [PayBasis]\n",
       "Index: []"
      ]
     },
     "metadata": {},
     "output_type": "display_data"
    },
    {
     "name": "stdout",
     "output_type": "stream",
     "text": [
      "\n",
      "PayRoll :\n"
     ]
    },
    {
     "data": {
      "text/html": [
       "<div>\n",
       "<style scoped>\n",
       "    .dataframe tbody tr th:only-of-type {\n",
       "        vertical-align: middle;\n",
       "    }\n",
       "\n",
       "    .dataframe tbody tr th {\n",
       "        vertical-align: top;\n",
       "    }\n",
       "\n",
       "    .dataframe thead th {\n",
       "        text-align: right;\n",
       "    }\n",
       "</style>\n",
       "<table border=\"1\" class=\"dataframe\">\n",
       "  <thead>\n",
       "    <tr style=\"text-align: right;\">\n",
       "      <th></th>\n",
       "      <th>PayRollNo</th>\n",
       "      <th>AgencyName</th>\n",
       "    </tr>\n",
       "  </thead>\n",
       "  <tbody>\n",
       "  </tbody>\n",
       "</table>\n",
       "</div>"
      ],
      "text/plain": [
       "Empty DataFrame\n",
       "Columns: [PayRollNo, AgencyName]\n",
       "Index: []"
      ]
     },
     "metadata": {},
     "output_type": "display_data"
    },
    {
     "name": "stdout",
     "output_type": "stream",
     "text": [
      "\n",
      "Employee :\n"
     ]
    },
    {
     "data": {
      "text/html": [
       "<div>\n",
       "<style scoped>\n",
       "    .dataframe tbody tr th:only-of-type {\n",
       "        vertical-align: middle;\n",
       "    }\n",
       "\n",
       "    .dataframe tbody tr th {\n",
       "        vertical-align: top;\n",
       "    }\n",
       "\n",
       "    .dataframe thead th {\n",
       "        text-align: right;\n",
       "    }\n",
       "</style>\n",
       "<table border=\"1\" class=\"dataframe\">\n",
       "  <thead>\n",
       "    <tr style=\"text-align: right;\">\n",
       "      <th></th>\n",
       "      <th>EmployeeID</th>\n",
       "      <th>FirstName</th>\n",
       "      <th>LastName</th>\n",
       "      <th>PayRollNo</th>\n",
       "      <th>FiscalYear</th>\n",
       "      <th>PayBasis</th>\n",
       "      <th>RegularGrossPaid</th>\n",
       "    </tr>\n",
       "  </thead>\n",
       "  <tbody>\n",
       "  </tbody>\n",
       "</table>\n",
       "</div>"
      ],
      "text/plain": [
       "Empty DataFrame\n",
       "Columns: [EmployeeID, FirstName, LastName, PayRollNo, FiscalYear, PayBasis, RegularGrossPaid]\n",
       "Index: []"
      ]
     },
     "metadata": {},
     "output_type": "display_data"
    },
    {
     "name": "stdout",
     "output_type": "stream",
     "text": [
      "\n",
      "Designation :\n"
     ]
    },
    {
     "data": {
      "text/html": [
       "<div>\n",
       "<style scoped>\n",
       "    .dataframe tbody tr th:only-of-type {\n",
       "        vertical-align: middle;\n",
       "    }\n",
       "\n",
       "    .dataframe tbody tr th {\n",
       "        vertical-align: top;\n",
       "    }\n",
       "\n",
       "    .dataframe thead th {\n",
       "        text-align: right;\n",
       "    }\n",
       "</style>\n",
       "<table border=\"1\" class=\"dataframe\">\n",
       "  <thead>\n",
       "    <tr style=\"text-align: right;\">\n",
       "      <th></th>\n",
       "      <th>EmployeeID</th>\n",
       "      <th>TitleDescription</th>\n",
       "      <th>BaseSalary</th>\n",
       "      <th>WorkLocation</th>\n",
       "    </tr>\n",
       "  </thead>\n",
       "  <tbody>\n",
       "  </tbody>\n",
       "</table>\n",
       "</div>"
      ],
      "text/plain": [
       "Empty DataFrame\n",
       "Columns: [EmployeeID, TitleDescription, BaseSalary, WorkLocation]\n",
       "Index: []"
      ]
     },
     "metadata": {},
     "output_type": "display_data"
    },
    {
     "name": "stdout",
     "output_type": "stream",
     "text": [
      "\n",
      "Income :\n"
     ]
    },
    {
     "data": {
      "text/html": [
       "<div>\n",
       "<style scoped>\n",
       "    .dataframe tbody tr th:only-of-type {\n",
       "        vertical-align: middle;\n",
       "    }\n",
       "\n",
       "    .dataframe tbody tr th {\n",
       "        vertical-align: top;\n",
       "    }\n",
       "\n",
       "    .dataframe thead th {\n",
       "        text-align: right;\n",
       "    }\n",
       "</style>\n",
       "<table border=\"1\" class=\"dataframe\">\n",
       "  <thead>\n",
       "    <tr style=\"text-align: right;\">\n",
       "      <th></th>\n",
       "      <th>EmployeeID</th>\n",
       "      <th>RegularGrossPaid</th>\n",
       "      <th>RegularHours</th>\n",
       "      <th>OTHours</th>\n",
       "      <th>TotalOTPay</th>\n",
       "      <th>TotalOtherPay</th>\n",
       "      <th>TotalPay</th>\n",
       "      <th>HourlyPay</th>\n",
       "      <th>RegularHoursCategory</th>\n",
       "      <th>OTHoursCategory</th>\n",
       "      <th>HourlyPayCategory</th>\n",
       "      <th>TotalPayCategory</th>\n",
       "    </tr>\n",
       "  </thead>\n",
       "  <tbody>\n",
       "  </tbody>\n",
       "</table>\n",
       "</div>"
      ],
      "text/plain": [
       "Empty DataFrame\n",
       "Columns: [EmployeeID, RegularGrossPaid, RegularHours, OTHours, TotalOTPay, TotalOtherPay, TotalPay, HourlyPay, RegularHoursCategory, OTHoursCategory, HourlyPayCategory, TotalPayCategory]\n",
       "Index: []"
      ]
     },
     "metadata": {},
     "output_type": "display_data"
    },
    {
     "name": "stdout",
     "output_type": "stream",
     "text": [
      "\n"
     ]
    }
   ],
   "source": [
    "tables = ['FiscalYear','AgencyName','PayBasis','PayRoll','Employee','Designation','Income']\n",
    "with conn:\n",
    "    for t in tables:\n",
    "        sql = f\"select * from {t};\"\n",
    "        dff = pd.read_sql_query(sql, conn)\n",
    "        print(f\"{t} :\")\n",
    "        display(dff)\n",
    "        print()"
   ]
  },
  {
   "cell_type": "code",
   "execution_count": 15,
   "metadata": {},
   "outputs": [
    {
     "data": {
      "text/html": [
       "<div>\n",
       "<style scoped>\n",
       "    .dataframe tbody tr th:only-of-type {\n",
       "        vertical-align: middle;\n",
       "    }\n",
       "\n",
       "    .dataframe tbody tr th {\n",
       "        vertical-align: top;\n",
       "    }\n",
       "\n",
       "    .dataframe thead th {\n",
       "        text-align: right;\n",
       "    }\n",
       "</style>\n",
       "<table border=\"1\" class=\"dataframe\">\n",
       "  <thead>\n",
       "    <tr style=\"text-align: right;\">\n",
       "      <th></th>\n",
       "      <th>Fiscal Year</th>\n",
       "      <th>Payroll Number</th>\n",
       "      <th>Agency Name</th>\n",
       "      <th>Last Name</th>\n",
       "      <th>First Name</th>\n",
       "      <th>Agency Start Date</th>\n",
       "      <th>Work Location Borough</th>\n",
       "      <th>Title Description</th>\n",
       "      <th>Leave Status as of June 30</th>\n",
       "      <th>Base Salary</th>\n",
       "      <th>...</th>\n",
       "      <th>Regular Gross Paid</th>\n",
       "      <th>OT Hours</th>\n",
       "      <th>Total OT Paid</th>\n",
       "      <th>Total Other Pay</th>\n",
       "      <th>Regular Hours category</th>\n",
       "      <th>Total Paid</th>\n",
       "      <th>OT Hours category</th>\n",
       "      <th>Hourly Pay</th>\n",
       "      <th>Hourly Pay category</th>\n",
       "      <th>Total Pay category</th>\n",
       "    </tr>\n",
       "  </thead>\n",
       "  <tbody>\n",
       "    <tr>\n",
       "      <th>0</th>\n",
       "      <td>2020</td>\n",
       "      <td>17.0</td>\n",
       "      <td>OFFICE OF EMERGENCY MANAGEMENT</td>\n",
       "      <td>BEREZIN</td>\n",
       "      <td>MIKHAIL</td>\n",
       "      <td>08/10/2015</td>\n",
       "      <td>BROOKLYN</td>\n",
       "      <td>EMERGENCY PREPAREDNESS MANAGER</td>\n",
       "      <td>ACTIVE</td>\n",
       "      <td>86005.0</td>\n",
       "      <td>...</td>\n",
       "      <td>84698.21</td>\n",
       "      <td>0.0</td>\n",
       "      <td>0.0</td>\n",
       "      <td>0.0</td>\n",
       "      <td>1500-2000</td>\n",
       "      <td>84698.21</td>\n",
       "      <td>0-500</td>\n",
       "      <td>46.537478</td>\n",
       "      <td>0-100</td>\n",
       "      <td>60000-90000</td>\n",
       "    </tr>\n",
       "  </tbody>\n",
       "</table>\n",
       "<p>1 rows × 22 columns</p>\n",
       "</div>"
      ],
      "text/plain": [
       "   Fiscal Year  Payroll Number                     Agency Name Last Name  \\\n",
       "0         2020            17.0  OFFICE OF EMERGENCY MANAGEMENT   BEREZIN   \n",
       "\n",
       "  First Name Agency Start Date Work Location Borough  \\\n",
       "0    MIKHAIL        08/10/2015              BROOKLYN   \n",
       "\n",
       "                Title Description Leave Status as of June 30  Base Salary  \\\n",
       "0  EMERGENCY PREPAREDNESS MANAGER                     ACTIVE      86005.0   \n",
       "\n",
       "   ... Regular Gross Paid  OT Hours  Total OT Paid  Total Other Pay  \\\n",
       "0  ...           84698.21       0.0            0.0              0.0   \n",
       "\n",
       "   Regular Hours category  Total Paid OT Hours category  Hourly Pay  \\\n",
       "0               1500-2000    84698.21             0-500   46.537478   \n",
       "\n",
       "  Hourly Pay category  Total Pay category  \n",
       "0               0-100         60000-90000  \n",
       "\n",
       "[1 rows x 22 columns]"
      ]
     },
     "execution_count": 15,
     "metadata": {},
     "output_type": "execute_result"
    }
   ],
   "source": [
    "df.head(1)"
   ]
  },
  {
   "cell_type": "markdown",
   "metadata": {},
   "source": [
    "### Import data into tables"
   ]
  },
  {
   "cell_type": "markdown",
   "metadata": {},
   "source": [
    "####  Values insertion for tables - FiscalYear, AgencyName, PayBasis."
   ]
  },
  {
   "cell_type": "code",
   "execution_count": 16,
   "metadata": {},
   "outputs": [],
   "source": [
    "FY = df[\"Fiscal Year\"].value_counts().index.unique().sort_values(ascending=True)  # Fiscal Year\n",
    "FY = [(i,) for i in FY] # Preparing for execute many.\n",
    "\n",
    "AN = df[\"Agency Name\"].value_counts().index.unique().sort_values(ascending=True)  # Agency Name\n",
    "AN = [(j,) for j in AN]\n",
    "\n",
    "PB = df[\"Pay Basis\"].value_counts().index.unique().sort_values(ascending=True)  # Pay Basis\n",
    "PB = [(k,) for k in PB]\n",
    "\n",
    "t_dict = {\"FiscalYear\": FY, \"AgencyName\": AN, \"PayBasis\": PB}\n",
    "\n",
    "with conn:\n",
    "    cur_insert = conn.cursor()\n",
    "    for t in tables[:3]:\n",
    "        t = t.replace(\" \",\"\")\n",
    "        sql = f\"INSERT INTO {t} ({t}) VALUES (?);\"\n",
    "        cur_insert.executemany(sql, t_dict[t])"
   ]
  },
  {
   "cell_type": "markdown",
   "metadata": {},
   "source": [
    "##### Display tables - FiscalYear, AgencyName, PayBasis."
   ]
  },
  {
   "cell_type": "code",
   "execution_count": 17,
   "metadata": {},
   "outputs": [
    {
     "name": "stdout",
     "output_type": "stream",
     "text": [
      "FiscalYear :\n"
     ]
    },
    {
     "data": {
      "text/html": [
       "<div>\n",
       "<style scoped>\n",
       "    .dataframe tbody tr th:only-of-type {\n",
       "        vertical-align: middle;\n",
       "    }\n",
       "\n",
       "    .dataframe tbody tr th {\n",
       "        vertical-align: top;\n",
       "    }\n",
       "\n",
       "    .dataframe thead th {\n",
       "        text-align: right;\n",
       "    }\n",
       "</style>\n",
       "<table border=\"1\" class=\"dataframe\">\n",
       "  <thead>\n",
       "    <tr style=\"text-align: right;\">\n",
       "      <th></th>\n",
       "      <th>FiscalYear</th>\n",
       "    </tr>\n",
       "  </thead>\n",
       "  <tbody>\n",
       "    <tr>\n",
       "      <th>0</th>\n",
       "      <td>2015</td>\n",
       "    </tr>\n",
       "    <tr>\n",
       "      <th>1</th>\n",
       "      <td>2016</td>\n",
       "    </tr>\n",
       "    <tr>\n",
       "      <th>2</th>\n",
       "      <td>2017</td>\n",
       "    </tr>\n",
       "    <tr>\n",
       "      <th>3</th>\n",
       "      <td>2018</td>\n",
       "    </tr>\n",
       "    <tr>\n",
       "      <th>4</th>\n",
       "      <td>2019</td>\n",
       "    </tr>\n",
       "    <tr>\n",
       "      <th>5</th>\n",
       "      <td>2020</td>\n",
       "    </tr>\n",
       "    <tr>\n",
       "      <th>6</th>\n",
       "      <td>2021</td>\n",
       "    </tr>\n",
       "  </tbody>\n",
       "</table>\n",
       "</div>"
      ],
      "text/plain": [
       "   FiscalYear\n",
       "0        2015\n",
       "1        2016\n",
       "2        2017\n",
       "3        2018\n",
       "4        2019\n",
       "5        2020\n",
       "6        2021"
      ]
     },
     "metadata": {},
     "output_type": "display_data"
    },
    {
     "name": "stdout",
     "output_type": "stream",
     "text": [
      "\n",
      "AgencyName :\n"
     ]
    },
    {
     "data": {
      "text/html": [
       "<div>\n",
       "<style scoped>\n",
       "    .dataframe tbody tr th:only-of-type {\n",
       "        vertical-align: middle;\n",
       "    }\n",
       "\n",
       "    .dataframe tbody tr th {\n",
       "        vertical-align: top;\n",
       "    }\n",
       "\n",
       "    .dataframe thead th {\n",
       "        text-align: right;\n",
       "    }\n",
       "</style>\n",
       "<table border=\"1\" class=\"dataframe\">\n",
       "  <thead>\n",
       "    <tr style=\"text-align: right;\">\n",
       "      <th></th>\n",
       "      <th>AgencyName</th>\n",
       "    </tr>\n",
       "  </thead>\n",
       "  <tbody>\n",
       "    <tr>\n",
       "      <th>0</th>\n",
       "      <td>ADMIN FOR CHILDREN'S SVCS</td>\n",
       "    </tr>\n",
       "    <tr>\n",
       "      <th>1</th>\n",
       "      <td>ADMIN TRIALS AND HEARINGS</td>\n",
       "    </tr>\n",
       "    <tr>\n",
       "      <th>2</th>\n",
       "      <td>BOARD OF CORRECTION</td>\n",
       "    </tr>\n",
       "    <tr>\n",
       "      <th>3</th>\n",
       "      <td>BOARD OF ELECTION</td>\n",
       "    </tr>\n",
       "    <tr>\n",
       "      <th>4</th>\n",
       "      <td>BOARD OF ELECTION POLL WORKERS</td>\n",
       "    </tr>\n",
       "    <tr>\n",
       "      <th>...</th>\n",
       "      <td>...</td>\n",
       "    </tr>\n",
       "    <tr>\n",
       "      <th>151</th>\n",
       "      <td>STATEN ISLAND COMMUNITY BD #2</td>\n",
       "    </tr>\n",
       "    <tr>\n",
       "      <th>152</th>\n",
       "      <td>STATEN ISLAND COMMUNITY BD #3</td>\n",
       "    </tr>\n",
       "    <tr>\n",
       "      <th>153</th>\n",
       "      <td>TAX COMMISSION</td>\n",
       "    </tr>\n",
       "    <tr>\n",
       "      <th>154</th>\n",
       "      <td>TAXI &amp; LIMOUSINE COMMISSION</td>\n",
       "    </tr>\n",
       "    <tr>\n",
       "      <th>155</th>\n",
       "      <td>TEACHERS RETIREMENT SYSTEM</td>\n",
       "    </tr>\n",
       "  </tbody>\n",
       "</table>\n",
       "<p>156 rows × 1 columns</p>\n",
       "</div>"
      ],
      "text/plain": [
       "                         AgencyName\n",
       "0         ADMIN FOR CHILDREN'S SVCS\n",
       "1         ADMIN TRIALS AND HEARINGS\n",
       "2               BOARD OF CORRECTION\n",
       "3                 BOARD OF ELECTION\n",
       "4    BOARD OF ELECTION POLL WORKERS\n",
       "..                              ...\n",
       "151   STATEN ISLAND COMMUNITY BD #2\n",
       "152   STATEN ISLAND COMMUNITY BD #3\n",
       "153                  TAX COMMISSION\n",
       "154     TAXI & LIMOUSINE COMMISSION\n",
       "155      TEACHERS RETIREMENT SYSTEM\n",
       "\n",
       "[156 rows x 1 columns]"
      ]
     },
     "metadata": {},
     "output_type": "display_data"
    },
    {
     "name": "stdout",
     "output_type": "stream",
     "text": [
      "\n",
      "PayBasis :\n"
     ]
    },
    {
     "data": {
      "text/html": [
       "<div>\n",
       "<style scoped>\n",
       "    .dataframe tbody tr th:only-of-type {\n",
       "        vertical-align: middle;\n",
       "    }\n",
       "\n",
       "    .dataframe tbody tr th {\n",
       "        vertical-align: top;\n",
       "    }\n",
       "\n",
       "    .dataframe thead th {\n",
       "        text-align: right;\n",
       "    }\n",
       "</style>\n",
       "<table border=\"1\" class=\"dataframe\">\n",
       "  <thead>\n",
       "    <tr style=\"text-align: right;\">\n",
       "      <th></th>\n",
       "      <th>PayBasis</th>\n",
       "    </tr>\n",
       "  </thead>\n",
       "  <tbody>\n",
       "    <tr>\n",
       "      <th>0</th>\n",
       "      <td>Prorated Annual</td>\n",
       "    </tr>\n",
       "    <tr>\n",
       "      <th>1</th>\n",
       "      <td>per Annum</td>\n",
       "    </tr>\n",
       "    <tr>\n",
       "      <th>2</th>\n",
       "      <td>per Day</td>\n",
       "    </tr>\n",
       "    <tr>\n",
       "      <th>3</th>\n",
       "      <td>per Hour</td>\n",
       "    </tr>\n",
       "  </tbody>\n",
       "</table>\n",
       "</div>"
      ],
      "text/plain": [
       "          PayBasis\n",
       "0  Prorated Annual\n",
       "1        per Annum\n",
       "2          per Day\n",
       "3         per Hour"
      ]
     },
     "metadata": {},
     "output_type": "display_data"
    },
    {
     "name": "stdout",
     "output_type": "stream",
     "text": [
      "\n"
     ]
    }
   ],
   "source": [
    "with conn:\n",
    "    for t in tables[:3]:\n",
    "        sql = f\"select * from {t};\"\n",
    "        dff = pd.read_sql_query(sql, conn)\n",
    "        print(f\"{t} :\")\n",
    "        display(dff)\n",
    "        print()"
   ]
  },
  {
   "cell_type": "markdown",
   "metadata": {},
   "source": [
    "#### Values insertion for table PayRoll"
   ]
  },
  {
   "cell_type": "code",
   "execution_count": 18,
   "metadata": {},
   "outputs": [],
   "source": [
    "pay_roll_df = df[[\"Payroll Number\", \"Agency Name\"]]\n",
    "pay_roll_df = pay_roll_df.groupby([\"Payroll Number\",\"Agency Name\"]).count().reset_index()\n",
    "\n",
    "pay_roll_list = [tuple(row) for row in pay_roll_df.itertuples(index=False)]  # Creating list of tuples for executemany.\n",
    "\n",
    "with conn:\n",
    "    cur_insert = conn.cursor()\n",
    "    sql = \"INSERT INTO PayRoll (PayRollNo, AgencyName) VALUES (?, ?);\"\n",
    "    cur_insert.executemany(sql, pay_roll_list)"
   ]
  },
  {
   "cell_type": "markdown",
   "metadata": {},
   "source": [
    "##### Display table PayRoll"
   ]
  },
  {
   "cell_type": "code",
   "execution_count": 19,
   "metadata": {},
   "outputs": [
    {
     "data": {
      "text/html": [
       "<div>\n",
       "<style scoped>\n",
       "    .dataframe tbody tr th:only-of-type {\n",
       "        vertical-align: middle;\n",
       "    }\n",
       "\n",
       "    .dataframe tbody tr th {\n",
       "        vertical-align: top;\n",
       "    }\n",
       "\n",
       "    .dataframe thead th {\n",
       "        text-align: right;\n",
       "    }\n",
       "</style>\n",
       "<table border=\"1\" class=\"dataframe\">\n",
       "  <thead>\n",
       "    <tr style=\"text-align: right;\">\n",
       "      <th></th>\n",
       "      <th>PayRollNo</th>\n",
       "      <th>AgencyName</th>\n",
       "    </tr>\n",
       "  </thead>\n",
       "  <tbody>\n",
       "    <tr>\n",
       "      <th>0</th>\n",
       "      <td>2</td>\n",
       "      <td>OFFICE OF THE MAYOR</td>\n",
       "    </tr>\n",
       "    <tr>\n",
       "      <th>1</th>\n",
       "      <td>3</td>\n",
       "      <td>BOARD OF ELECTION</td>\n",
       "    </tr>\n",
       "    <tr>\n",
       "      <th>2</th>\n",
       "      <td>4</td>\n",
       "      <td>CAMPAIGN FINANCE BOARD</td>\n",
       "    </tr>\n",
       "    <tr>\n",
       "      <th>3</th>\n",
       "      <td>8</td>\n",
       "      <td>OFFICE OF THE ACTUARY</td>\n",
       "    </tr>\n",
       "    <tr>\n",
       "      <th>4</th>\n",
       "      <td>9</td>\n",
       "      <td>NYC EMPLOYEES RETIREMENT SYS</td>\n",
       "    </tr>\n",
       "    <tr>\n",
       "      <th>...</th>\n",
       "      <td>...</td>\n",
       "      <td>...</td>\n",
       "    </tr>\n",
       "    <tr>\n",
       "      <th>151</th>\n",
       "      <td>942</td>\n",
       "      <td>PUBLIC ADMINISTRATOR-BRONX</td>\n",
       "    </tr>\n",
       "    <tr>\n",
       "      <th>152</th>\n",
       "      <td>943</td>\n",
       "      <td>PUBLIC ADMINISTRATOR-KINGS</td>\n",
       "    </tr>\n",
       "    <tr>\n",
       "      <th>153</th>\n",
       "      <td>944</td>\n",
       "      <td>PUBLIC ADMINISTRATOR-QUEENS</td>\n",
       "    </tr>\n",
       "    <tr>\n",
       "      <th>154</th>\n",
       "      <td>945</td>\n",
       "      <td>PUBLIC ADMINISTRATOR-RICHMOND</td>\n",
       "    </tr>\n",
       "    <tr>\n",
       "      <th>155</th>\n",
       "      <td>996</td>\n",
       "      <td>NYC HOUSING AUTHORITY</td>\n",
       "    </tr>\n",
       "  </tbody>\n",
       "</table>\n",
       "<p>156 rows × 2 columns</p>\n",
       "</div>"
      ],
      "text/plain": [
       "     PayRollNo                     AgencyName\n",
       "0            2            OFFICE OF THE MAYOR\n",
       "1            3              BOARD OF ELECTION\n",
       "2            4         CAMPAIGN FINANCE BOARD\n",
       "3            8          OFFICE OF THE ACTUARY\n",
       "4            9   NYC EMPLOYEES RETIREMENT SYS\n",
       "..         ...                            ...\n",
       "151        942     PUBLIC ADMINISTRATOR-BRONX\n",
       "152        943     PUBLIC ADMINISTRATOR-KINGS\n",
       "153        944    PUBLIC ADMINISTRATOR-QUEENS\n",
       "154        945  PUBLIC ADMINISTRATOR-RICHMOND\n",
       "155        996          NYC HOUSING AUTHORITY\n",
       "\n",
       "[156 rows x 2 columns]"
      ]
     },
     "metadata": {},
     "output_type": "display_data"
    }
   ],
   "source": [
    "with conn:\n",
    "    sql = \"select * from PayRoll;\"\n",
    "    dff = pd.read_sql_query(sql, conn)\n",
    "    display(dff)"
   ]
  },
  {
   "cell_type": "markdown",
   "metadata": {},
   "source": [
    "#### Values insertion for table Employee."
   ]
  },
  {
   "cell_type": "code",
   "execution_count": 21,
   "metadata": {},
   "outputs": [],
   "source": [
    "df.reset_index(inplace=True)\n",
    "df.rename(columns={\"index\":\"EmployeeID\"}, inplace=True)\n",
    "employee_df = df[[\"EmployeeID\",\"First Name\",\"Last Name\",\"Payroll Number\",\"Fiscal Year\",\"Pay Basis\",\"Regular Gross Paid\"]]\n",
    "\n",
    "employee_df_list = [tuple(row) for row in employee_df.itertuples(index=False)]  # Creating list of tuples for executemany.\n",
    "\n",
    "with conn:\n",
    "    cur_insert = conn.cursor()\n",
    "    sql = \"INSERT INTO Employee (EmployeeID,FirstName,LastName,PayRollNo,FiscalYear,PayBasis,RegularGrossPaid) VALUES (?,?,?,?,?,?,?);\"\n",
    "    cur_insert.executemany(sql, employee_df_list)"
   ]
  },
  {
   "cell_type": "markdown",
   "metadata": {},
   "source": [
    "##### Display Employee table."
   ]
  },
  {
   "cell_type": "code",
   "execution_count": 29,
   "metadata": {},
   "outputs": [
    {
     "data": {
      "text/html": [
       "<div>\n",
       "<style scoped>\n",
       "    .dataframe tbody tr th:only-of-type {\n",
       "        vertical-align: middle;\n",
       "    }\n",
       "\n",
       "    .dataframe tbody tr th {\n",
       "        vertical-align: top;\n",
       "    }\n",
       "\n",
       "    .dataframe thead th {\n",
       "        text-align: right;\n",
       "    }\n",
       "</style>\n",
       "<table border=\"1\" class=\"dataframe\">\n",
       "  <thead>\n",
       "    <tr style=\"text-align: right;\">\n",
       "      <th></th>\n",
       "      <th>EmployeeID</th>\n",
       "      <th>FirstName</th>\n",
       "      <th>LastName</th>\n",
       "      <th>PayRollNo</th>\n",
       "      <th>FiscalYear</th>\n",
       "      <th>PayBasis</th>\n",
       "      <th>RegularGrossPaid</th>\n",
       "    </tr>\n",
       "  </thead>\n",
       "  <tbody>\n",
       "    <tr>\n",
       "      <th>0</th>\n",
       "      <td>0</td>\n",
       "      <td>MIKHAIL</td>\n",
       "      <td>BEREZIN</td>\n",
       "      <td>17</td>\n",
       "      <td>2020</td>\n",
       "      <td>per Annum</td>\n",
       "      <td>84698.21</td>\n",
       "    </tr>\n",
       "    <tr>\n",
       "      <th>1</th>\n",
       "      <td>1</td>\n",
       "      <td>VERONICA</td>\n",
       "      <td>GEAGER</td>\n",
       "      <td>17</td>\n",
       "      <td>2020</td>\n",
       "      <td>per Annum</td>\n",
       "      <td>84698.21</td>\n",
       "    </tr>\n",
       "    <tr>\n",
       "      <th>2</th>\n",
       "      <td>2</td>\n",
       "      <td>SHRADDHA</td>\n",
       "      <td>RAMANI</td>\n",
       "      <td>17</td>\n",
       "      <td>2020</td>\n",
       "      <td>per Annum</td>\n",
       "      <td>84698.21</td>\n",
       "    </tr>\n",
       "    <tr>\n",
       "      <th>3</th>\n",
       "      <td>3</td>\n",
       "      <td>JONATHAN</td>\n",
       "      <td>ROTTA</td>\n",
       "      <td>17</td>\n",
       "      <td>2020</td>\n",
       "      <td>per Annum</td>\n",
       "      <td>84698.21</td>\n",
       "    </tr>\n",
       "    <tr>\n",
       "      <th>4</th>\n",
       "      <td>4</td>\n",
       "      <td>ROBERT</td>\n",
       "      <td>WILSON II</td>\n",
       "      <td>17</td>\n",
       "      <td>2020</td>\n",
       "      <td>per Annum</td>\n",
       "      <td>84698.21</td>\n",
       "    </tr>\n",
       "    <tr>\n",
       "      <th>5</th>\n",
       "      <td>5</td>\n",
       "      <td>MORIAH</td>\n",
       "      <td>WASHINGTON</td>\n",
       "      <td>17</td>\n",
       "      <td>2020</td>\n",
       "      <td>per Annum</td>\n",
       "      <td>87900.95</td>\n",
       "    </tr>\n",
       "  </tbody>\n",
       "</table>\n",
       "</div>"
      ],
      "text/plain": [
       "   EmployeeID FirstName    LastName  PayRollNo  FiscalYear   PayBasis  \\\n",
       "0           0   MIKHAIL     BEREZIN         17        2020  per Annum   \n",
       "1           1  VERONICA      GEAGER         17        2020  per Annum   \n",
       "2           2  SHRADDHA      RAMANI         17        2020  per Annum   \n",
       "3           3  JONATHAN       ROTTA         17        2020  per Annum   \n",
       "4           4    ROBERT   WILSON II         17        2020  per Annum   \n",
       "5           5    MORIAH  WASHINGTON         17        2020  per Annum   \n",
       "\n",
       "   RegularGrossPaid  \n",
       "0          84698.21  \n",
       "1          84698.21  \n",
       "2          84698.21  \n",
       "3          84698.21  \n",
       "4          84698.21  \n",
       "5          87900.95  "
      ]
     },
     "metadata": {},
     "output_type": "display_data"
    }
   ],
   "source": [
    "with conn:\n",
    "    sql = \"select * from Employee limit 6;\"\n",
    "    dff = pd.read_sql_query(sql, conn)\n",
    "    display(dff)"
   ]
  },
  {
   "cell_type": "markdown",
   "metadata": {},
   "source": [
    "#### Values insertion for table Designation."
   ]
  },
  {
   "cell_type": "code",
   "execution_count": 31,
   "metadata": {},
   "outputs": [],
   "source": [
    "designation_df = df[[\"EmployeeID\",\"Title Description\",\"Base Salary\",\"Work Location Borough\"]]\n",
    "\n",
    "designation_df_list = [tuple(row) for row in designation_df.itertuples(index=False)]  # Creating list of tuples for executemany.\n",
    "\n",
    "with conn:\n",
    "    cur_insert = conn.cursor()\n",
    "    sql = \"INSERT INTO Designation (EmployeeID,TitleDescription,BaseSalary,WorkLocation) VALUES (?,?,?,?);\"\n",
    "    cur_insert.executemany(sql, designation_df_list)"
   ]
  },
  {
   "cell_type": "markdown",
   "metadata": {},
   "source": [
    "##### Display Designation table."
   ]
  },
  {
   "cell_type": "code",
   "execution_count": 39,
   "metadata": {},
   "outputs": [
    {
     "data": {
      "text/html": [
       "<div>\n",
       "<style scoped>\n",
       "    .dataframe tbody tr th:only-of-type {\n",
       "        vertical-align: middle;\n",
       "    }\n",
       "\n",
       "    .dataframe tbody tr th {\n",
       "        vertical-align: top;\n",
       "    }\n",
       "\n",
       "    .dataframe thead th {\n",
       "        text-align: right;\n",
       "    }\n",
       "</style>\n",
       "<table border=\"1\" class=\"dataframe\">\n",
       "  <thead>\n",
       "    <tr style=\"text-align: right;\">\n",
       "      <th></th>\n",
       "      <th>EmployeeID</th>\n",
       "      <th>TitleDescription</th>\n",
       "      <th>BaseSalary</th>\n",
       "      <th>WorkLocation</th>\n",
       "    </tr>\n",
       "  </thead>\n",
       "  <tbody>\n",
       "    <tr>\n",
       "      <th>0</th>\n",
       "      <td>0</td>\n",
       "      <td>EMERGENCY PREPAREDNESS MANAGER</td>\n",
       "      <td>86005</td>\n",
       "      <td>BROOKLYN</td>\n",
       "    </tr>\n",
       "    <tr>\n",
       "      <th>1</th>\n",
       "      <td>1</td>\n",
       "      <td>EMERGENCY PREPAREDNESS MANAGER</td>\n",
       "      <td>86005</td>\n",
       "      <td>BROOKLYN</td>\n",
       "    </tr>\n",
       "    <tr>\n",
       "      <th>2</th>\n",
       "      <td>2</td>\n",
       "      <td>EMERGENCY PREPAREDNESS MANAGER</td>\n",
       "      <td>86005</td>\n",
       "      <td>BROOKLYN</td>\n",
       "    </tr>\n",
       "    <tr>\n",
       "      <th>3</th>\n",
       "      <td>3</td>\n",
       "      <td>EMERGENCY PREPAREDNESS MANAGER</td>\n",
       "      <td>86005</td>\n",
       "      <td>BROOKLYN</td>\n",
       "    </tr>\n",
       "    <tr>\n",
       "      <th>4</th>\n",
       "      <td>4</td>\n",
       "      <td>EMERGENCY PREPAREDNESS MANAGER</td>\n",
       "      <td>86005</td>\n",
       "      <td>BROOKLYN</td>\n",
       "    </tr>\n",
       "  </tbody>\n",
       "</table>\n",
       "</div>"
      ],
      "text/plain": [
       "   EmployeeID                TitleDescription  BaseSalary WorkLocation\n",
       "0           0  EMERGENCY PREPAREDNESS MANAGER       86005     BROOKLYN\n",
       "1           1  EMERGENCY PREPAREDNESS MANAGER       86005     BROOKLYN\n",
       "2           2  EMERGENCY PREPAREDNESS MANAGER       86005     BROOKLYN\n",
       "3           3  EMERGENCY PREPAREDNESS MANAGER       86005     BROOKLYN\n",
       "4           4  EMERGENCY PREPAREDNESS MANAGER       86005     BROOKLYN"
      ]
     },
     "metadata": {},
     "output_type": "display_data"
    }
   ],
   "source": [
    "with conn:\n",
    "    sql = \"select * from Designation limit 5;\"\n",
    "    dff = pd.read_sql_query(sql, conn)\n",
    "    display(dff)"
   ]
  },
  {
   "cell_type": "markdown",
   "metadata": {},
   "source": [
    "#### Values insertion for table Income."
   ]
  },
  {
   "cell_type": "code",
   "execution_count": 44,
   "metadata": {},
   "outputs": [],
   "source": [
    "income_df = df[[\"EmployeeID\",\"Regular Gross Paid\",\"Regular Hours\",\"OT Hours\",\"Total OT Paid\",\"Total Other Pay\",\"Total Paid\",\"Hourly Pay\",\"Regular Hours category\",\"OT Hours category\",\"Hourly Pay category\",\"Total Pay category\"]]\n",
    "\n",
    "income_df_list = [tuple(row) for row in income_df.itertuples(index=False)]  # Creating list of tuples for executemany.\n",
    "\n",
    "with conn:\n",
    "    cur_insert = conn.cursor()\n",
    "    sql = \"INSERT INTO Income (EmployeeID,RegularGrossPaid,RegularHours,OTHours,TotalOTPay,TotalOtherPay,TotalPay,HourlyPay,RegularHoursCategory,OTHoursCategory,HourlyPayCategory,TotalPayCategory) VALUES (?,?,?,?,?,?,?,?,?,?,?,?);\"\n",
    "    cur_insert.executemany(sql, income_df_list)"
   ]
  },
  {
   "cell_type": "markdown",
   "metadata": {},
   "source": [
    "##### Display table Income."
   ]
  },
  {
   "cell_type": "code",
   "execution_count": 47,
   "metadata": {},
   "outputs": [
    {
     "data": {
      "text/html": [
       "<div>\n",
       "<style scoped>\n",
       "    .dataframe tbody tr th:only-of-type {\n",
       "        vertical-align: middle;\n",
       "    }\n",
       "\n",
       "    .dataframe tbody tr th {\n",
       "        vertical-align: top;\n",
       "    }\n",
       "\n",
       "    .dataframe thead th {\n",
       "        text-align: right;\n",
       "    }\n",
       "</style>\n",
       "<table border=\"1\" class=\"dataframe\">\n",
       "  <thead>\n",
       "    <tr style=\"text-align: right;\">\n",
       "      <th></th>\n",
       "      <th>EmployeeID</th>\n",
       "      <th>RegularGrossPaid</th>\n",
       "      <th>RegularHours</th>\n",
       "      <th>OTHours</th>\n",
       "      <th>TotalOTPay</th>\n",
       "      <th>TotalOtherPay</th>\n",
       "      <th>TotalPay</th>\n",
       "      <th>HourlyPay</th>\n",
       "      <th>RegularHoursCategory</th>\n",
       "      <th>OTHoursCategory</th>\n",
       "      <th>HourlyPayCategory</th>\n",
       "      <th>TotalPayCategory</th>\n",
       "    </tr>\n",
       "  </thead>\n",
       "  <tbody>\n",
       "    <tr>\n",
       "      <th>0</th>\n",
       "      <td>0</td>\n",
       "      <td>84698.21</td>\n",
       "      <td>1820.0</td>\n",
       "      <td>0.0</td>\n",
       "      <td>0.0</td>\n",
       "      <td>0.0</td>\n",
       "      <td>84698.21</td>\n",
       "      <td>46.537478</td>\n",
       "      <td>1500-2000</td>\n",
       "      <td>0-500</td>\n",
       "      <td>0-100</td>\n",
       "      <td>60000-90000</td>\n",
       "    </tr>\n",
       "    <tr>\n",
       "      <th>1</th>\n",
       "      <td>1</td>\n",
       "      <td>84698.21</td>\n",
       "      <td>1820.0</td>\n",
       "      <td>0.0</td>\n",
       "      <td>0.0</td>\n",
       "      <td>0.0</td>\n",
       "      <td>84698.21</td>\n",
       "      <td>46.537478</td>\n",
       "      <td>1500-2000</td>\n",
       "      <td>0-500</td>\n",
       "      <td>0-100</td>\n",
       "      <td>60000-90000</td>\n",
       "    </tr>\n",
       "    <tr>\n",
       "      <th>2</th>\n",
       "      <td>2</td>\n",
       "      <td>84698.21</td>\n",
       "      <td>1820.0</td>\n",
       "      <td>0.0</td>\n",
       "      <td>0.0</td>\n",
       "      <td>0.0</td>\n",
       "      <td>84698.21</td>\n",
       "      <td>46.537478</td>\n",
       "      <td>1500-2000</td>\n",
       "      <td>0-500</td>\n",
       "      <td>0-100</td>\n",
       "      <td>60000-90000</td>\n",
       "    </tr>\n",
       "    <tr>\n",
       "      <th>3</th>\n",
       "      <td>3</td>\n",
       "      <td>84698.21</td>\n",
       "      <td>1820.0</td>\n",
       "      <td>0.0</td>\n",
       "      <td>0.0</td>\n",
       "      <td>0.0</td>\n",
       "      <td>84698.21</td>\n",
       "      <td>46.537478</td>\n",
       "      <td>1500-2000</td>\n",
       "      <td>0-500</td>\n",
       "      <td>0-100</td>\n",
       "      <td>60000-90000</td>\n",
       "    </tr>\n",
       "    <tr>\n",
       "      <th>4</th>\n",
       "      <td>4</td>\n",
       "      <td>84698.21</td>\n",
       "      <td>1820.0</td>\n",
       "      <td>0.0</td>\n",
       "      <td>0.0</td>\n",
       "      <td>0.0</td>\n",
       "      <td>84698.21</td>\n",
       "      <td>46.537478</td>\n",
       "      <td>1500-2000</td>\n",
       "      <td>0-500</td>\n",
       "      <td>0-100</td>\n",
       "      <td>60000-90000</td>\n",
       "    </tr>\n",
       "  </tbody>\n",
       "</table>\n",
       "</div>"
      ],
      "text/plain": [
       "   EmployeeID  RegularGrossPaid  RegularHours  OTHours  TotalOTPay  \\\n",
       "0           0          84698.21        1820.0      0.0         0.0   \n",
       "1           1          84698.21        1820.0      0.0         0.0   \n",
       "2           2          84698.21        1820.0      0.0         0.0   \n",
       "3           3          84698.21        1820.0      0.0         0.0   \n",
       "4           4          84698.21        1820.0      0.0         0.0   \n",
       "\n",
       "   TotalOtherPay  TotalPay  HourlyPay RegularHoursCategory OTHoursCategory  \\\n",
       "0            0.0  84698.21  46.537478            1500-2000           0-500   \n",
       "1            0.0  84698.21  46.537478            1500-2000           0-500   \n",
       "2            0.0  84698.21  46.537478            1500-2000           0-500   \n",
       "3            0.0  84698.21  46.537478            1500-2000           0-500   \n",
       "4            0.0  84698.21  46.537478            1500-2000           0-500   \n",
       "\n",
       "  HourlyPayCategory TotalPayCategory  \n",
       "0             0-100      60000-90000  \n",
       "1             0-100      60000-90000  \n",
       "2             0-100      60000-90000  \n",
       "3             0-100      60000-90000  \n",
       "4             0-100      60000-90000  "
      ]
     },
     "metadata": {},
     "output_type": "display_data"
    }
   ],
   "source": [
    "with conn:\n",
    "    sql = \"select * from Income limit 5;\"\n",
    "    dff = pd.read_sql_query(sql, conn)\n",
    "    display(dff)"
   ]
  },
  {
   "cell_type": "code",
   "execution_count": null,
   "metadata": {},
   "outputs": [],
   "source": []
  }
 ],
 "metadata": {
  "interpreter": {
   "hash": "9f7cd4a032357cee79ce7059b7758f9c5aa995e9cd3eea18c8a9dd6a7286ed82"
  },
  "kernelspec": {
   "display_name": "Python 3.9.7 64-bit ('ub_dl': conda)",
   "language": "python",
   "name": "python3"
  },
  "language_info": {
   "codemirror_mode": {
    "name": "ipython",
    "version": 3
   },
   "file_extension": ".py",
   "mimetype": "text/x-python",
   "name": "python",
   "nbconvert_exporter": "python",
   "pygments_lexer": "ipython3",
   "version": "3.9.7"
  },
  "orig_nbformat": 4
 },
 "nbformat": 4,
 "nbformat_minor": 2
}
